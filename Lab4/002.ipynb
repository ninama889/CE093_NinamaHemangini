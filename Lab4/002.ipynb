{
  "nbformat": 4,
  "nbformat_minor": 0,
  "metadata": {
    "colab": {
      "name": "002.ipynb",
      "provenance": []
    },
    "kernelspec": {
      "name": "python3",
      "display_name": "Python 3"
    },
    "language_info": {
      "name": "python"
    }
  },
  "cells": [
    {
      "cell_type": "markdown",
      "source": [
        "**linear-regression-pytorch**"
      ],
      "metadata": {
        "id": "PF8F4N1akewO"
      }
    },
    {
      "cell_type": "code",
      "execution_count": null,
      "metadata": {
        "id": "CpW1ES_skTQO"
      },
      "outputs": [],
      "source": [
        "# Import Numpy & PyTorch\n",
        "import numpy as np\n",
        "import torch\n",
        "import torch.nn as nn\n",
        "import torch.optim as optim "
      ]
    },
    {
      "cell_type": "code",
      "source": [
        "# Input (temp, rainfall, humidity)\n",
        "inputs = np.array([[73, 67, 43], [91, 88, 64], [87, 134, 58], \n",
        "[102, 43, 37],[69, 96, 70], [73, 67, 43], [91, 88, 64], [87, 134, 58],\n",
        "[102, 43, 37], [69,96, 70], [73, 67, 43], [91, 88, 64], [87, 134, 58], \n",
        "[102, 43, 37], [69, 96,70]], dtype='float32')\n",
        "# Targets (apples, oranges)\n",
        "targets = np.array([[56, 70], [81, 101], [119, 133], [22, 37], [103, 119],\n",
        "[56, 70], [81, 101], [119, 133], [22, 37], [103, 119],\n",
        "[56, 70], [81, 101], [119, 133], [22, 37], [103, 119]],dtype='float32')"
      ],
      "metadata": {
        "id": "TgIeu2ewlm-W"
      },
      "execution_count": null,
      "outputs": []
    },
    {
      "cell_type": "code",
      "source": [
        "inputs = torch.from_numpy(inputs)\n",
        "targets = torch.from_numpy(targets)"
      ],
      "metadata": {
        "id": "-GyfXyccvT6b"
      },
      "execution_count": null,
      "outputs": []
    },
    {
      "cell_type": "markdown",
      "source": [
        "Dataset and DataLoader"
      ],
      "metadata": {
        "id": "vOJmET-JvXaC"
      }
    },
    {
      "cell_type": "code",
      "source": [
        "# Import tensor dataset & data loader\n",
        "from torch.utils.data import TensorDataset, DataLoader"
      ],
      "metadata": {
        "id": "JzqtQFRLvaGy"
      },
      "execution_count": null,
      "outputs": []
    },
    {
      "cell_type": "code",
      "source": [
        "# create dataset and dataloaders\n",
        "train_dataset = torch.utils.data.TensorDataset(inputs, targets)\n",
        "train_loader = torch.utils.data.DataLoader(train_dataset, batch_size=64)"
      ],
      "metadata": {
        "id": "eEZxvolWvx1a"
      },
      "execution_count": null,
      "outputs": []
    },
    {
      "cell_type": "code",
      "source": [
        "# Define model\n",
        "model = nn.Linear(3,2)\n",
        "optimizer = optim.SGD(model.parameters(), lr=0.01, momentum=0.9)\n",
        "print(optimizer)\n",
        "opt = optim.Adam([inputs, targets], lr=0.0001)\n"
      ],
      "metadata": {
        "colab": {
          "base_uri": "https://localhost:8080/"
        },
        "id": "pEpSQ5jYv51C",
        "outputId": "ddd41c84-3ae6-43e7-e075-a762124851e9"
      },
      "execution_count": null,
      "outputs": [
        {
          "output_type": "stream",
          "name": "stdout",
          "text": [
            "SGD (\n",
            "Parameter Group 0\n",
            "    dampening: 0\n",
            "    lr: 0.01\n",
            "    momentum: 0.9\n",
            "    nesterov: False\n",
            "    weight_decay: 0\n",
            ")\n"
          ]
        }
      ]
    },
    {
      "cell_type": "code",
      "source": [
        "# Import nn.functional\n",
        "import torch.nn.functional as F\n",
        "# Define loss function\n",
        "loss_fn = F.mse_loss\n",
        "output = model(inputs)\n",
        "loss = loss_fn(output, targets)\n",
        "print(loss)\n",
        "model(inputs)"
      ],
      "metadata": {
        "colab": {
          "base_uri": "https://localhost:8080/"
        },
        "id": "jy38mceG0dzJ",
        "outputId": "204d0fcd-8ee1-40b1-c205-2e5e84660adb"
      },
      "execution_count": null,
      "outputs": [
        {
          "output_type": "stream",
          "name": "stdout",
          "text": [
            "tensor(14684.9824, grad_fn=<MseLossBackward0>)\n"
          ]
        },
        {
          "output_type": "execute_result",
          "data": {
            "text/plain": [
              "tensor([[-44.1149,  -7.0577],\n",
              "        [-53.7050,  -4.1438],\n",
              "        [-69.1967, -19.0954],\n",
              "        [-51.0988,  -9.4412],\n",
              "        [-44.5245,   1.2137],\n",
              "        [-44.1149,  -7.0577],\n",
              "        [-53.7050,  -4.1438],\n",
              "        [-69.1967, -19.0954],\n",
              "        [-51.0988,  -9.4412],\n",
              "        [-44.5245,   1.2137],\n",
              "        [-44.1149,  -7.0577],\n",
              "        [-53.7050,  -4.1438],\n",
              "        [-69.1967, -19.0954],\n",
              "        [-51.0988,  -9.4412],\n",
              "        [-44.5245,   1.2137]], grad_fn=<AddmmBackward0>)"
            ]
          },
          "metadata": {},
          "execution_count": 22
        }
      ]
    },
    {
      "cell_type": "code",
      "source": [
        "#train model\n",
        "# Define a utility function to train the model\n",
        "def fit(num_epochs, model, loss_fn, opt):\n",
        "  for epoch in range(num_epochs):\n",
        "    for xb,yb in train_dataset:\n",
        "      #Generate predictions\n",
        "      pred = model(inputs)\n",
        "      loss = loss_fn(pred,targets)\n",
        "      #Perform gradient descent\n",
        "      loss.backward()\n",
        "      opt.step()\n",
        "      opt.zero_grad()\n",
        "print('Training loss: ', loss_fn(model(inputs), targets))"
      ],
      "metadata": {
        "colab": {
          "base_uri": "https://localhost:8080/"
        },
        "id": "RTeJPL1p3vho",
        "outputId": "d3624c70-88db-4506-b3b0-3b21f13907ed"
      },
      "execution_count": null,
      "outputs": [
        {
          "output_type": "stream",
          "name": "stdout",
          "text": [
            "Training loss:  tensor(14684.9824, grad_fn=<MseLossBackward0>)\n"
          ]
        }
      ]
    }
  ]
}