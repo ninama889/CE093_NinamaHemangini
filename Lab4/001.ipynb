{
  "nbformat": 4,
  "nbformat_minor": 0,
  "metadata": {
    "colab": {
      "name": "001.ipynb",
      "provenance": [],
      "collapsed_sections": []
    },
    "kernelspec": {
      "name": "python3",
      "display_name": "Python 3"
    },
    "language_info": {
      "name": "python"
    }
  },
  "cells": [
    {
      "cell_type": "markdown",
      "source": [
        "**Machine Learning Lab#4 - Implement Linear Regression Algorithm on the given dataset**"
      ],
      "metadata": {
        "id": "2kJfZVLllA4d"
      }
    },
    {
      "cell_type": "code",
      "execution_count": null,
      "metadata": {
        "id": "PG7E-M8fk_dv"
      },
      "outputs": [],
      "source": [
        "# Import Numpy & PyTorch\n",
        "import numpy as np\n",
        "import torch"
      ]
    },
    {
      "cell_type": "code",
      "source": [
        "# Inputs (temp, rainfall, humidity)\n",
        "inputs = np.array([[73, 67, 43],\n",
        "[91, 88, 64],\n",
        "[87, 134, 58],\n",
        "[102, 43, 37],\n",
        "[69, 96, 70]], dtype='float64')"
      ],
      "metadata": {
        "id": "oTePFOZ_lNDU"
      },
      "execution_count": null,
      "outputs": []
    },
    {
      "cell_type": "code",
      "source": [
        "# Target (apples)\n",
        "targets = np.array([[56],\n",
        "[81],\n",
        "[119],\n",
        "[22],\n",
        "[103]], dtype='float32')"
      ],
      "metadata": {
        "id": "AexPFYGplR-9"
      },
      "execution_count": null,
      "outputs": []
    },
    {
      "cell_type": "code",
      "source": [
        "# Convert inputs and targets to tensors\n",
        "x_inputs = torch.from_numpy(inputs)\n",
        "x_targets = torch.from_numpy(targets)\n",
        "print(x_inputs)\n",
        "print(x_targets)"
      ],
      "metadata": {
        "colab": {
          "base_uri": "https://localhost:8080/"
        },
        "id": "fNKu_CC7lwJl",
        "outputId": "c019b1b8-bdcc-4ec6-b91e-501bb69b5d26"
      },
      "execution_count": null,
      "outputs": [
        {
          "output_type": "stream",
          "name": "stdout",
          "text": [
            "tensor([[ 73.,  67.,  43.],\n",
            "        [ 91.,  88.,  64.],\n",
            "        [ 87., 134.,  58.],\n",
            "        [102.,  43.,  37.],\n",
            "        [ 69.,  96.,  70.]], dtype=torch.float64)\n",
            "tensor([[ 56.],\n",
            "        [ 81.],\n",
            "        [119.],\n",
            "        [ 22.],\n",
            "        [103.]])\n"
          ]
        }
      ]
    },
    {
      "cell_type": "markdown",
      "source": [
        "Linear Regression Model (from scratch)"
      ],
      "metadata": {
        "id": "L6BMdYAlm8jl"
      }
    },
    {
      "cell_type": "code",
      "source": [
        "# Weights and biases\n",
        "print(x_inputs.shape[1])\n",
        "print(x_targets.shape[1])\n",
        "x_weights = torch.randn(x_inputs.shape[1],x_targets.shape[1],dtype=torch.float64, requires_grad=True )\n",
        "x_biases = torch.randn(x_inputs.shape[0],x_targets.shape[1], dtype=torch.float64, requires_grad=True)\n",
        "print(x_weights)\n",
        "print(x_biases)"
      ],
      "metadata": {
        "colab": {
          "base_uri": "https://localhost:8080/"
        },
        "id": "cN9bxteKm890",
        "outputId": "207e91f0-0546-4f7a-d6bd-5bec1e9c3248"
      },
      "execution_count": null,
      "outputs": [
        {
          "output_type": "stream",
          "name": "stdout",
          "text": [
            "3\n",
            "1\n",
            "tensor([[0.1092],\n",
            "        [0.5264],\n",
            "        [0.1990]], dtype=torch.float64, requires_grad=True)\n",
            "tensor([[ 1.2466],\n",
            "        [-0.1265],\n",
            "        [-0.2498],\n",
            "        [-0.2106],\n",
            "        [ 0.3530]], dtype=torch.float64, requires_grad=True)\n"
          ]
        }
      ]
    },
    {
      "cell_type": "code",
      "source": [
        "# Define the model\n",
        "model = torch.matmul(x_inputs,x_weights)\n",
        "model = torch.add(model,x_biases)\n",
        "model"
      ],
      "metadata": {
        "colab": {
          "base_uri": "https://localhost:8080/"
        },
        "id": "cs4y0sO4o7Fc",
        "outputId": "aa92eda6-ed88-4ba9-9142-a8f8c106e18b"
      },
      "execution_count": null,
      "outputs": [
        {
          "output_type": "execute_result",
          "data": {
            "text/plain": [
              "tensor([[53.0411],\n",
              "        [68.8662],\n",
              "        [91.3247],\n",
              "        [40.9238],\n",
              "        [72.3484]], dtype=torch.float64, grad_fn=<AddBackward0>)"
            ]
          },
          "metadata": {},
          "execution_count": 6
        }
      ]
    },
    {
      "cell_type": "code",
      "source": [
        "# Generate predictions\n",
        "#Compare with targets\n",
        "diff = torch.subtract(model,x_targets)\n",
        "torch.square_(diff)\n",
        "#MSE loss\n",
        "loss  = torch.sum(diff)/len(diff)\n",
        "loss"
      ],
      "metadata": {
        "colab": {
          "base_uri": "https://localhost:8080/"
        },
        "id": "Bh8hjewVq6AM",
        "outputId": "bd67a0ad-91a1-438b-f004-634e4c60735f"
      },
      "execution_count": null,
      "outputs": [
        {
          "output_type": "execute_result",
          "data": {
            "text/plain": [
              "tensor(443.9072, dtype=torch.float64, grad_fn=<DivBackward0>)"
            ]
          },
          "metadata": {},
          "execution_count": 7
        }
      ]
    },
    {
      "cell_type": "code",
      "source": [
        "loss.backward(retain_graph=True)"
      ],
      "metadata": {
        "id": "rm0FL83OuAya"
      },
      "execution_count": null,
      "outputs": []
    },
    {
      "cell_type": "code",
      "source": [
        "print(x_weights.grad)\n",
        "print(x_biases.grad)"
      ],
      "metadata": {
        "colab": {
          "base_uri": "https://localhost:8080/"
        },
        "id": "lm5LKFrOuMV7",
        "outputId": "74251ea0-0c27-49b2-e5d9-891dc4acac3b"
      },
      "execution_count": null,
      "outputs": [
        {
          "output_type": "stream",
          "name": "stdout",
          "text": [
            "tensor([[-1565.0628],\n",
            "        [-2841.3355],\n",
            "        [-1581.7571]], dtype=torch.float64)\n",
            "tensor([[ -1.1836],\n",
            "        [ -4.8535],\n",
            "        [-11.0701],\n",
            "        [  7.5695],\n",
            "        [-12.2606]], dtype=torch.float64)\n"
          ]
        }
      ]
    }
  ]
}