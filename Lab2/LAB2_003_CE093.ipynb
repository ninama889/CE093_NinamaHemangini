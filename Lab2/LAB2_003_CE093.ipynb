{
  "nbformat": 4,
  "nbformat_minor": 0,
  "metadata": {
    "colab": {
      "name": "LAB2_003_CE093.ipynb",
      "provenance": []
    },
    "kernelspec": {
      "name": "python3",
      "display_name": "Python 3"
    },
    "language_info": {
      "name": "python"
    }
  },
  "cells": [
    {
      "cell_type": "code",
      "execution_count": 3,
      "metadata": {
        "colab": {
          "base_uri": "https://localhost:8080/"
        },
        "id": "VRDceoqspKcq",
        "outputId": "4d42f328-7029-4b8d-db83-aa69ec9caf3d"
      },
      "outputs": [
        {
          "output_type": "stream",
          "name": "stdout",
          "text": [
            "\n",
            "Data :\n",
            "       Unnamed: 0  Price   Age     KM  ... Automatic    CC  Doors  Weight\n",
            "0              0  13500  23.0  46986  ...         0  2000  three    1165\n",
            "1              1  13750  23.0  72937  ...         0  2000      3    1165\n",
            "2              2  13950  24.0  41711  ...         0  2000      3    1165\n",
            "3              3  14950  26.0  48000  ...         0  2000      3    1165\n",
            "4              4  13750  30.0  38500  ...         0  2000      3    1170\n",
            "...          ...    ...   ...    ...  ...       ...   ...    ...     ...\n",
            "1431        1431   7500   NaN  20544  ...         0  1300      3    1025\n",
            "1432        1432  10845  72.0     ??  ...         0  1300      3    1015\n",
            "1433        1433   8500   NaN  17016  ...         0  1300      3    1015\n",
            "1434        1434   7250  70.0     ??  ...         0  1300      3    1015\n",
            "1435        1435   6950  76.0      1  ...         0  1600      5    1114\n",
            "\n",
            "[1436 rows x 11 columns]\n",
            "\n",
            "Data statistics\n",
            "         Unnamed: 0         Price  ...           CC      Weight\n",
            "count  1436.000000   1436.000000  ...  1436.000000  1436.00000\n",
            "mean    717.500000  10730.824513  ...  1566.827994  1072.45961\n",
            "std     414.681806   3626.964585  ...   187.182436    52.64112\n",
            "min       0.000000   4350.000000  ...  1300.000000  1000.00000\n",
            "25%     358.750000   8450.000000  ...  1400.000000  1040.00000\n",
            "50%     717.500000   9900.000000  ...  1600.000000  1070.00000\n",
            "75%    1076.250000  11950.000000  ...  1600.000000  1085.00000\n",
            "max    1435.000000  32500.000000  ...  2000.000000  1615.00000\n",
            "\n",
            "[8 rows x 7 columns]\n"
          ]
        }
      ],
      "source": [
        "# Step 1: Import Libraries\n",
        "\n",
        "import numpy as np \n",
        "import pandas as pd\n",
        "from sklearn.impute import SimpleImputer \n",
        "\n",
        "# Step 2: Load Data\n",
        "        \n",
        "datasets = pd.read_csv('Exercise-CarData.csv') \n",
        "print(\"\\nData :\\n\",datasets)\n",
        "print(\"\\nData statistics\\n\",datasets.describe())"
      ]
    },
    {
      "cell_type": "code",
      "source": [
        "# Step 3: Seprate Input and Output attributes\n",
        "\n",
        "# All rows, all columns except last \n",
        "X = datasets.iloc[:, :-1].values \n",
        "  \n",
        "# Only last column  \n",
        "Y = datasets.iloc[:, -1].values \n",
        "\n",
        "print(\"\\n\\nInput : \\n\", X) \n",
        "print(\"\\n\\nOutput: \\n\", Y) "
      ],
      "metadata": {
        "colab": {
          "base_uri": "https://localhost:8080/"
        },
        "id": "9eoKiNoYpqEL",
        "outputId": "4dcb5b71-793b-463b-d83e-a843f0746b75"
      },
      "execution_count": 4,
      "outputs": [
        {
          "output_type": "stream",
          "name": "stdout",
          "text": [
            "\n",
            "\n",
            "Input : \n",
            " [[0 13500 23.0 ... 0 2000 'three']\n",
            " [1 13750 23.0 ... 0 2000 '3']\n",
            " [2 13950 24.0 ... 0 2000 '3']\n",
            " ...\n",
            " [1433 8500 nan ... 0 1300 '3']\n",
            " [1434 7250 70.0 ... 0 1300 '3']\n",
            " [1435 6950 76.0 ... 0 1600 '5']]\n",
            "\n",
            "\n",
            "Output: \n",
            " [1165 1165 1165 ... 1015 1015 1114]\n"
          ]
        }
      ]
    },
    {
      "cell_type": "code",
      "source": [
        "# Step 4: Find the missing values and handle it in either way\n",
        "\n",
        "# 4a. Removing the row with all null values\n",
        "\n",
        "datasets.dropna(axis=0,how='all',inplace=True)\n",
        "print(\"\\nNew Data :\",datasets)\n",
        "\n",
        "\n",
        "#4b. Removing the row with any one null values\n",
        "\n",
        "#datasets.dropna(axis=0,how='any',inplace=True)"
      ],
      "metadata": {
        "colab": {
          "base_uri": "https://localhost:8080/"
        },
        "id": "SUH0SUcCpvXr",
        "outputId": "5512e06f-afed-408e-fced-4206b5399aaf"
      },
      "execution_count": 5,
      "outputs": [
        {
          "output_type": "stream",
          "name": "stdout",
          "text": [
            "\n",
            "New Data :       Unnamed: 0  Price   Age     KM  ... Automatic    CC  Doors  Weight\n",
            "0              0  13500  23.0  46986  ...         0  2000  three    1165\n",
            "1              1  13750  23.0  72937  ...         0  2000      3    1165\n",
            "2              2  13950  24.0  41711  ...         0  2000      3    1165\n",
            "3              3  14950  26.0  48000  ...         0  2000      3    1165\n",
            "4              4  13750  30.0  38500  ...         0  2000      3    1170\n",
            "...          ...    ...   ...    ...  ...       ...   ...    ...     ...\n",
            "1431        1431   7500   NaN  20544  ...         0  1300      3    1025\n",
            "1432        1432  10845  72.0     ??  ...         0  1300      3    1015\n",
            "1433        1433   8500   NaN  17016  ...         0  1300      3    1015\n",
            "1434        1434   7250  70.0     ??  ...         0  1300      3    1015\n",
            "1435        1435   6950  76.0      1  ...         0  1600      5    1114\n",
            "\n",
            "[1436 rows x 11 columns]\n"
          ]
        }
      ]
    },
    {
      "cell_type": "code",
      "source": [
        "updated_df = datasets;\n",
        "updated_df['Age']=updated_df['Age'].fillna(updated_df['Age'].mean())\n",
        "updated_df.info()"
      ],
      "metadata": {
        "colab": {
          "base_uri": "https://localhost:8080/"
        },
        "id": "CHfHiQ2Vp1mK",
        "outputId": "c400048a-84d2-4b29-ff57-410efd337359"
      },
      "execution_count": 6,
      "outputs": [
        {
          "output_type": "stream",
          "name": "stdout",
          "text": [
            "<class 'pandas.core.frame.DataFrame'>\n",
            "Int64Index: 1436 entries, 0 to 1435\n",
            "Data columns (total 11 columns):\n",
            " #   Column      Non-Null Count  Dtype  \n",
            "---  ------      --------------  -----  \n",
            " 0   Unnamed: 0  1436 non-null   int64  \n",
            " 1   Price       1436 non-null   int64  \n",
            " 2   Age         1436 non-null   float64\n",
            " 3   KM          1436 non-null   object \n",
            " 4   FuelType    1336 non-null   object \n",
            " 5   HP          1436 non-null   object \n",
            " 6   MetColor    1286 non-null   float64\n",
            " 7   Automatic   1436 non-null   int64  \n",
            " 8   CC          1436 non-null   int64  \n",
            " 9   Doors       1436 non-null   object \n",
            " 10  Weight      1436 non-null   int64  \n",
            "dtypes: float64(2), int64(5), object(4)\n",
            "memory usage: 134.6+ KB\n"
          ]
        }
      ]
    },
    {
      "cell_type": "code",
      "source": [
        ""
      ],
      "metadata": {
        "id": "AtG8v2oZqUBb"
      },
      "execution_count": null,
      "outputs": []
    },
    {
      "cell_type": "code",
      "source": [
        "datasets\n"
      ],
      "metadata": {
        "colab": {
          "base_uri": "https://localhost:8080/",
          "height": 424
        },
        "id": "kcBnOTIZqCLj",
        "outputId": "b832265a-b729-44f0-f3ac-1d29aeefa63e"
      },
      "execution_count": 7,
      "outputs": [
        {
          "output_type": "execute_result",
          "data": {
            "text/html": [
              "\n",
              "  <div id=\"df-ed6f1212-a721-40b9-b8e3-b1147a3f6f2a\">\n",
              "    <div class=\"colab-df-container\">\n",
              "      <div>\n",
              "<style scoped>\n",
              "    .dataframe tbody tr th:only-of-type {\n",
              "        vertical-align: middle;\n",
              "    }\n",
              "\n",
              "    .dataframe tbody tr th {\n",
              "        vertical-align: top;\n",
              "    }\n",
              "\n",
              "    .dataframe thead th {\n",
              "        text-align: right;\n",
              "    }\n",
              "</style>\n",
              "<table border=\"1\" class=\"dataframe\">\n",
              "  <thead>\n",
              "    <tr style=\"text-align: right;\">\n",
              "      <th></th>\n",
              "      <th>Unnamed: 0</th>\n",
              "      <th>Price</th>\n",
              "      <th>Age</th>\n",
              "      <th>KM</th>\n",
              "      <th>FuelType</th>\n",
              "      <th>HP</th>\n",
              "      <th>MetColor</th>\n",
              "      <th>Automatic</th>\n",
              "      <th>CC</th>\n",
              "      <th>Doors</th>\n",
              "      <th>Weight</th>\n",
              "    </tr>\n",
              "  </thead>\n",
              "  <tbody>\n",
              "    <tr>\n",
              "      <th>0</th>\n",
              "      <td>0</td>\n",
              "      <td>13500</td>\n",
              "      <td>23.000000</td>\n",
              "      <td>46986</td>\n",
              "      <td>Diesel</td>\n",
              "      <td>90</td>\n",
              "      <td>1.0</td>\n",
              "      <td>0</td>\n",
              "      <td>2000</td>\n",
              "      <td>three</td>\n",
              "      <td>1165</td>\n",
              "    </tr>\n",
              "    <tr>\n",
              "      <th>1</th>\n",
              "      <td>1</td>\n",
              "      <td>13750</td>\n",
              "      <td>23.000000</td>\n",
              "      <td>72937</td>\n",
              "      <td>Diesel</td>\n",
              "      <td>90</td>\n",
              "      <td>1.0</td>\n",
              "      <td>0</td>\n",
              "      <td>2000</td>\n",
              "      <td>3</td>\n",
              "      <td>1165</td>\n",
              "    </tr>\n",
              "    <tr>\n",
              "      <th>2</th>\n",
              "      <td>2</td>\n",
              "      <td>13950</td>\n",
              "      <td>24.000000</td>\n",
              "      <td>41711</td>\n",
              "      <td>Diesel</td>\n",
              "      <td>90</td>\n",
              "      <td>NaN</td>\n",
              "      <td>0</td>\n",
              "      <td>2000</td>\n",
              "      <td>3</td>\n",
              "      <td>1165</td>\n",
              "    </tr>\n",
              "    <tr>\n",
              "      <th>3</th>\n",
              "      <td>3</td>\n",
              "      <td>14950</td>\n",
              "      <td>26.000000</td>\n",
              "      <td>48000</td>\n",
              "      <td>Diesel</td>\n",
              "      <td>90</td>\n",
              "      <td>0.0</td>\n",
              "      <td>0</td>\n",
              "      <td>2000</td>\n",
              "      <td>3</td>\n",
              "      <td>1165</td>\n",
              "    </tr>\n",
              "    <tr>\n",
              "      <th>4</th>\n",
              "      <td>4</td>\n",
              "      <td>13750</td>\n",
              "      <td>30.000000</td>\n",
              "      <td>38500</td>\n",
              "      <td>Diesel</td>\n",
              "      <td>90</td>\n",
              "      <td>0.0</td>\n",
              "      <td>0</td>\n",
              "      <td>2000</td>\n",
              "      <td>3</td>\n",
              "      <td>1170</td>\n",
              "    </tr>\n",
              "    <tr>\n",
              "      <th>...</th>\n",
              "      <td>...</td>\n",
              "      <td>...</td>\n",
              "      <td>...</td>\n",
              "      <td>...</td>\n",
              "      <td>...</td>\n",
              "      <td>...</td>\n",
              "      <td>...</td>\n",
              "      <td>...</td>\n",
              "      <td>...</td>\n",
              "      <td>...</td>\n",
              "      <td>...</td>\n",
              "    </tr>\n",
              "    <tr>\n",
              "      <th>1431</th>\n",
              "      <td>1431</td>\n",
              "      <td>7500</td>\n",
              "      <td>55.672156</td>\n",
              "      <td>20544</td>\n",
              "      <td>Petrol</td>\n",
              "      <td>86</td>\n",
              "      <td>1.0</td>\n",
              "      <td>0</td>\n",
              "      <td>1300</td>\n",
              "      <td>3</td>\n",
              "      <td>1025</td>\n",
              "    </tr>\n",
              "    <tr>\n",
              "      <th>1432</th>\n",
              "      <td>1432</td>\n",
              "      <td>10845</td>\n",
              "      <td>72.000000</td>\n",
              "      <td>??</td>\n",
              "      <td>Petrol</td>\n",
              "      <td>86</td>\n",
              "      <td>0.0</td>\n",
              "      <td>0</td>\n",
              "      <td>1300</td>\n",
              "      <td>3</td>\n",
              "      <td>1015</td>\n",
              "    </tr>\n",
              "    <tr>\n",
              "      <th>1433</th>\n",
              "      <td>1433</td>\n",
              "      <td>8500</td>\n",
              "      <td>55.672156</td>\n",
              "      <td>17016</td>\n",
              "      <td>Petrol</td>\n",
              "      <td>86</td>\n",
              "      <td>0.0</td>\n",
              "      <td>0</td>\n",
              "      <td>1300</td>\n",
              "      <td>3</td>\n",
              "      <td>1015</td>\n",
              "    </tr>\n",
              "    <tr>\n",
              "      <th>1434</th>\n",
              "      <td>1434</td>\n",
              "      <td>7250</td>\n",
              "      <td>70.000000</td>\n",
              "      <td>??</td>\n",
              "      <td>NaN</td>\n",
              "      <td>86</td>\n",
              "      <td>1.0</td>\n",
              "      <td>0</td>\n",
              "      <td>1300</td>\n",
              "      <td>3</td>\n",
              "      <td>1015</td>\n",
              "    </tr>\n",
              "    <tr>\n",
              "      <th>1435</th>\n",
              "      <td>1435</td>\n",
              "      <td>6950</td>\n",
              "      <td>76.000000</td>\n",
              "      <td>1</td>\n",
              "      <td>Petrol</td>\n",
              "      <td>110</td>\n",
              "      <td>0.0</td>\n",
              "      <td>0</td>\n",
              "      <td>1600</td>\n",
              "      <td>5</td>\n",
              "      <td>1114</td>\n",
              "    </tr>\n",
              "  </tbody>\n",
              "</table>\n",
              "<p>1436 rows × 11 columns</p>\n",
              "</div>\n",
              "      <button class=\"colab-df-convert\" onclick=\"convertToInteractive('df-ed6f1212-a721-40b9-b8e3-b1147a3f6f2a')\"\n",
              "              title=\"Convert this dataframe to an interactive table.\"\n",
              "              style=\"display:none;\">\n",
              "        \n",
              "  <svg xmlns=\"http://www.w3.org/2000/svg\" height=\"24px\"viewBox=\"0 0 24 24\"\n",
              "       width=\"24px\">\n",
              "    <path d=\"M0 0h24v24H0V0z\" fill=\"none\"/>\n",
              "    <path d=\"M18.56 5.44l.94 2.06.94-2.06 2.06-.94-2.06-.94-.94-2.06-.94 2.06-2.06.94zm-11 1L8.5 8.5l.94-2.06 2.06-.94-2.06-.94L8.5 2.5l-.94 2.06-2.06.94zm10 10l.94 2.06.94-2.06 2.06-.94-2.06-.94-.94-2.06-.94 2.06-2.06.94z\"/><path d=\"M17.41 7.96l-1.37-1.37c-.4-.4-.92-.59-1.43-.59-.52 0-1.04.2-1.43.59L10.3 9.45l-7.72 7.72c-.78.78-.78 2.05 0 2.83L4 21.41c.39.39.9.59 1.41.59.51 0 1.02-.2 1.41-.59l7.78-7.78 2.81-2.81c.8-.78.8-2.07 0-2.86zM5.41 20L4 18.59l7.72-7.72 1.47 1.35L5.41 20z\"/>\n",
              "  </svg>\n",
              "      </button>\n",
              "      \n",
              "  <style>\n",
              "    .colab-df-container {\n",
              "      display:flex;\n",
              "      flex-wrap:wrap;\n",
              "      gap: 12px;\n",
              "    }\n",
              "\n",
              "    .colab-df-convert {\n",
              "      background-color: #E8F0FE;\n",
              "      border: none;\n",
              "      border-radius: 50%;\n",
              "      cursor: pointer;\n",
              "      display: none;\n",
              "      fill: #1967D2;\n",
              "      height: 32px;\n",
              "      padding: 0 0 0 0;\n",
              "      width: 32px;\n",
              "    }\n",
              "\n",
              "    .colab-df-convert:hover {\n",
              "      background-color: #E2EBFA;\n",
              "      box-shadow: 0px 1px 2px rgba(60, 64, 67, 0.3), 0px 1px 3px 1px rgba(60, 64, 67, 0.15);\n",
              "      fill: #174EA6;\n",
              "    }\n",
              "\n",
              "    [theme=dark] .colab-df-convert {\n",
              "      background-color: #3B4455;\n",
              "      fill: #D2E3FC;\n",
              "    }\n",
              "\n",
              "    [theme=dark] .colab-df-convert:hover {\n",
              "      background-color: #434B5C;\n",
              "      box-shadow: 0px 1px 3px 1px rgba(0, 0, 0, 0.15);\n",
              "      filter: drop-shadow(0px 1px 2px rgba(0, 0, 0, 0.3));\n",
              "      fill: #FFFFFF;\n",
              "    }\n",
              "  </style>\n",
              "\n",
              "      <script>\n",
              "        const buttonEl =\n",
              "          document.querySelector('#df-ed6f1212-a721-40b9-b8e3-b1147a3f6f2a button.colab-df-convert');\n",
              "        buttonEl.style.display =\n",
              "          google.colab.kernel.accessAllowed ? 'block' : 'none';\n",
              "\n",
              "        async function convertToInteractive(key) {\n",
              "          const element = document.querySelector('#df-ed6f1212-a721-40b9-b8e3-b1147a3f6f2a');\n",
              "          const dataTable =\n",
              "            await google.colab.kernel.invokeFunction('convertToInteractive',\n",
              "                                                     [key], {});\n",
              "          if (!dataTable) return;\n",
              "\n",
              "          const docLinkHtml = 'Like what you see? Visit the ' +\n",
              "            '<a target=\"_blank\" href=https://colab.research.google.com/notebooks/data_table.ipynb>data table notebook</a>'\n",
              "            + ' to learn more about interactive tables.';\n",
              "          element.innerHTML = '';\n",
              "          dataTable['output_type'] = 'display_data';\n",
              "          await google.colab.output.renderOutput(dataTable, element);\n",
              "          const docLink = document.createElement('div');\n",
              "          docLink.innerHTML = docLinkHtml;\n",
              "          element.appendChild(docLink);\n",
              "        }\n",
              "      </script>\n",
              "    </div>\n",
              "  </div>\n",
              "  "
            ],
            "text/plain": [
              "      Unnamed: 0  Price        Age     KM  ... Automatic    CC  Doors  Weight\n",
              "0              0  13500  23.000000  46986  ...         0  2000  three    1165\n",
              "1              1  13750  23.000000  72937  ...         0  2000      3    1165\n",
              "2              2  13950  24.000000  41711  ...         0  2000      3    1165\n",
              "3              3  14950  26.000000  48000  ...         0  2000      3    1165\n",
              "4              4  13750  30.000000  38500  ...         0  2000      3    1170\n",
              "...          ...    ...        ...    ...  ...       ...   ...    ...     ...\n",
              "1431        1431   7500  55.672156  20544  ...         0  1300      3    1025\n",
              "1432        1432  10845  72.000000     ??  ...         0  1300      3    1015\n",
              "1433        1433   8500  55.672156  17016  ...         0  1300      3    1015\n",
              "1434        1434   7250  70.000000     ??  ...         0  1300      3    1015\n",
              "1435        1435   6950  76.000000      1  ...         0  1600      5    1114\n",
              "\n",
              "[1436 rows x 11 columns]"
            ]
          },
          "metadata": {},
          "execution_count": 7
        }
      ]
    },
    {
      "cell_type": "code",
      "source": [
        "new_X = datasets.iloc[:, :-1].values \n",
        "# Only last column  \n",
        "new_Y = datasets.iloc[:, -1].values "
      ],
      "metadata": {
        "id": "TZi-wVVlqe8j"
      },
      "execution_count": 9,
      "outputs": []
    },
    {
      "cell_type": "code",
      "source": [
        "# Step 1: Import Libraries\n",
        "\n",
        "import numpy as np \n",
        "import pandas as pd\n",
        "from sklearn.impute import SimpleImputer \n",
        "\n",
        "# Step 2: Load Data\n",
        "        \n",
        "datasets = pd.read_csv('Exercise-CarData.csv') \n",
        "print(\"\\nData :\\n\",datasets)\n",
        "print(\"\\nData statistics\\n\",datasets.describe())"
      ],
      "metadata": {
        "colab": {
          "base_uri": "https://localhost:8080/"
        },
        "id": "xCVBKMubqi7c",
        "outputId": "5553482a-2d80-4de9-f522-e3caefa37be7"
      },
      "execution_count": 11,
      "outputs": [
        {
          "output_type": "stream",
          "name": "stdout",
          "text": [
            "\n",
            "Data :\n",
            "       Unnamed: 0  Price   Age     KM  ... Automatic    CC  Doors  Weight\n",
            "0              0  13500  23.0  46986  ...         0  2000  three    1165\n",
            "1              1  13750  23.0  72937  ...         0  2000      3    1165\n",
            "2              2  13950  24.0  41711  ...         0  2000      3    1165\n",
            "3              3  14950  26.0  48000  ...         0  2000      3    1165\n",
            "4              4  13750  30.0  38500  ...         0  2000      3    1170\n",
            "...          ...    ...   ...    ...  ...       ...   ...    ...     ...\n",
            "1431        1431   7500   NaN  20544  ...         0  1300      3    1025\n",
            "1432        1432  10845  72.0     ??  ...         0  1300      3    1015\n",
            "1433        1433   8500   NaN  17016  ...         0  1300      3    1015\n",
            "1434        1434   7250  70.0     ??  ...         0  1300      3    1015\n",
            "1435        1435   6950  76.0      1  ...         0  1600      5    1114\n",
            "\n",
            "[1436 rows x 11 columns]\n",
            "\n",
            "Data statistics\n",
            "         Unnamed: 0         Price  ...           CC      Weight\n",
            "count  1436.000000   1436.000000  ...  1436.000000  1436.00000\n",
            "mean    717.500000  10730.824513  ...  1566.827994  1072.45961\n",
            "std     414.681806   3626.964585  ...   187.182436    52.64112\n",
            "min       0.000000   4350.000000  ...  1300.000000  1000.00000\n",
            "25%     358.750000   8450.000000  ...  1400.000000  1040.00000\n",
            "50%     717.500000   9900.000000  ...  1600.000000  1070.00000\n",
            "75%    1076.250000  11950.000000  ...  1600.000000  1085.00000\n",
            "max    1435.000000  32500.000000  ...  2000.000000  1615.00000\n",
            "\n",
            "[8 rows x 7 columns]\n"
          ]
        }
      ]
    },
    {
      "cell_type": "code",
      "source": [
        "# Step 3: Seprate Input and Output attributes\n",
        "\n",
        "# All rows, all columns except last \n",
        "X = datasets.iloc[:, :-1].values \n",
        "  \n",
        "# Only last column  \n",
        "Y = datasets.iloc[:, -1].values \n",
        "\n",
        "print(\"\\n\\nInput : \\n\", X) \n",
        "print(\"\\n\\nOutput: \\n\", Y) "
      ],
      "metadata": {
        "colab": {
          "base_uri": "https://localhost:8080/"
        },
        "id": "NIzQJlnNqwN8",
        "outputId": "d78e66ca-494b-4e16-e682-8a130bfa83b6"
      },
      "execution_count": 12,
      "outputs": [
        {
          "output_type": "stream",
          "name": "stdout",
          "text": [
            "\n",
            "\n",
            "Input : \n",
            " [[0 13500 23.0 ... 0 2000 'three']\n",
            " [1 13750 23.0 ... 0 2000 '3']\n",
            " [2 13950 24.0 ... 0 2000 '3']\n",
            " ...\n",
            " [1433 8500 nan ... 0 1300 '3']\n",
            " [1434 7250 70.0 ... 0 1300 '3']\n",
            " [1435 6950 76.0 ... 0 1600 '5']]\n",
            "\n",
            "\n",
            "Output: \n",
            " [1165 1165 1165 ... 1015 1015 1114]\n"
          ]
        }
      ]
    },
    {
      "cell_type": "code",
      "source": [
        "# Step 4: Find the missing values and handle it in either way\n",
        "\n",
        "# 4a. Removing the row with all null values\n",
        "\n",
        "datasets.dropna(axis=0,how='all',inplace=True)\n",
        "print(\"\\nNew Data :\",datasets)\n",
        "\n",
        "\n",
        "#4b. Removing the row with any one null values\n",
        "\n",
        "#datasets.dropna(axis=0,how='any',inplace=True)"
      ],
      "metadata": {
        "colab": {
          "base_uri": "https://localhost:8080/"
        },
        "id": "dL9QqirKq3vc",
        "outputId": "9b581c5f-3a04-4a25-d57b-bc3493d3b3f9"
      },
      "execution_count": 13,
      "outputs": [
        {
          "output_type": "stream",
          "name": "stdout",
          "text": [
            "\n",
            "New Data :       Unnamed: 0  Price   Age     KM  ... Automatic    CC  Doors  Weight\n",
            "0              0  13500  23.0  46986  ...         0  2000  three    1165\n",
            "1              1  13750  23.0  72937  ...         0  2000      3    1165\n",
            "2              2  13950  24.0  41711  ...         0  2000      3    1165\n",
            "3              3  14950  26.0  48000  ...         0  2000      3    1165\n",
            "4              4  13750  30.0  38500  ...         0  2000      3    1170\n",
            "...          ...    ...   ...    ...  ...       ...   ...    ...     ...\n",
            "1431        1431   7500   NaN  20544  ...         0  1300      3    1025\n",
            "1432        1432  10845  72.0     ??  ...         0  1300      3    1015\n",
            "1433        1433   8500   NaN  17016  ...         0  1300      3    1015\n",
            "1434        1434   7250  70.0     ??  ...         0  1300      3    1015\n",
            "1435        1435   6950  76.0      1  ...         0  1600      5    1114\n",
            "\n",
            "[1436 rows x 11 columns]\n"
          ]
        }
      ]
    },
    {
      "cell_type": "code",
      "source": [
        "# 4b. Imputation (Replacing null values with mean value of that attribute)\n",
        "\n",
        "# All rows, all columns except last \n",
        "new_X = datasets.iloc[:, :-1].values \n",
        "  \n",
        "# Only last column  \n",
        "new_Y = datasets.iloc[:, -1].values \n",
        "\n",
        "\n",
        "updated_df['Age'].fillna(updated_df['Age'].mean())\n",
        "\n",
        "# Using Imputer function to replace NaN values with mean of that parameter value \n",
        "imputer = SimpleImputer(missing_values = np.nan,strategy = \"mean\")\n",
        "\n",
        "# Fitting the data, function learns the stats \n",
        "imputer = imputer.fit(new_X[:, 1:3]) \n",
        "  \n",
        "# fit_transform() will execute those stats on the input ie. X[:, 1:3] \n",
        "new_X[:, 1:3] = imputer.transform(new_X[:, 1:3]) \n",
        "  \n",
        "# filling the missing value with mean \n",
        "print(\"\\n\\nNew Input with Mean Value for NaN : \\n\\n\", new_X) \n"
      ],
      "metadata": {
        "colab": {
          "base_uri": "https://localhost:8080/"
        },
        "id": "Bngo5CmUq5_T",
        "outputId": "e896069b-22a1-43aa-8a55-4bdfa5872633"
      },
      "execution_count": 14,
      "outputs": [
        {
          "output_type": "stream",
          "name": "stdout",
          "text": [
            "\n",
            "\n",
            "New Input with Mean Value for NaN : \n",
            "\n",
            " [[0 13500.0 23.0 ... 0 2000 'three']\n",
            " [1 13750.0 23.0 ... 0 2000 '3']\n",
            " [2 13950.0 24.0 ... 0 2000 '3']\n",
            " ...\n",
            " [1433 8500.0 55.67215568862275 ... 0 1300 '3']\n",
            " [1434 7250.0 70.0 ... 0 1300 '3']\n",
            " [1435 6950.0 76.0 ... 0 1600 '5']]\n"
          ]
        }
      ]
    }
  ]
}