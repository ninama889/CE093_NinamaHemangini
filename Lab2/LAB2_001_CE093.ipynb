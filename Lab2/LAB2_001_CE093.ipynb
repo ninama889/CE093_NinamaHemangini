{
  "nbformat": 4,
  "nbformat_minor": 0,
  "metadata": {
    "colab": {
      "name": "LAB2_001_CE093.ipynb",
      "provenance": []
    },
    "kernelspec": {
      "name": "python3",
      "display_name": "Python 3"
    },
    "language_info": {
      "name": "python"
    }
  },
  "cells": [
    {
      "cell_type": "code",
      "execution_count": 2,
      "metadata": {
        "colab": {
          "base_uri": "https://localhost:8080/"
        },
        "id": "63__OhVdeQk5",
        "outputId": "9e4fbe9f-da67-499a-d396-b0c76cd96cdd"
      },
      "outputs": [
        {
          "output_type": "stream",
          "name": "stdout",
          "text": [
            "\n",
            "Data :\n",
            "       Unnamed: 0  Price   Age     KM  ... Automatic    CC  Doors  Weight\n",
            "0              0  13500  23.0  46986  ...         0  2000  three    1165\n",
            "1              1  13750  23.0  72937  ...         0  2000      3    1165\n",
            "2              2  13950  24.0  41711  ...         0  2000      3    1165\n",
            "3              3  14950  26.0  48000  ...         0  2000      3    1165\n",
            "4              4  13750  30.0  38500  ...         0  2000      3    1170\n",
            "...          ...    ...   ...    ...  ...       ...   ...    ...     ...\n",
            "1431        1431   7500   NaN  20544  ...         0  1300      3    1025\n",
            "1432        1432  10845  72.0     ??  ...         0  1300      3    1015\n",
            "1433        1433   8500   NaN  17016  ...         0  1300      3    1015\n",
            "1434        1434   7250  70.0     ??  ...         0  1300      3    1015\n",
            "1435        1435   6950  76.0      1  ...         0  1600      5    1114\n",
            "\n",
            "[1436 rows x 11 columns]\n",
            "\n",
            "\n",
            "X for transformation : \n",
            " [[13500.    23.]\n",
            " [13750.    23.]\n",
            " [13950.    24.]\n",
            " ...\n",
            " [ 8500.    nan]\n",
            " [ 7250.    70.]\n",
            " [ 6950.    76.]]\n"
          ]
        }
      ],
      "source": [
        "import numpy as np \n",
        "import pandas as pd\n",
        "from sklearn.preprocessing import MinMaxScaler, StandardScaler\n",
        "\n",
        "datasets = pd.read_csv('Exercise-CarData.csv') \n",
        "print(\"\\nData :\\n\",datasets)\n",
        "\n",
        "X = datasets.iloc[:, :-1].values \n",
        "  \n",
        "# Only last column  \n",
        "Y = datasets.iloc[:, -1].values \n",
        "\n",
        "#print(\"\\n\\nInput : \\n\", X) \n",
        "#print(\"\\n\\nOutput: \\n\", Y) \n",
        "\n",
        "X_new = datasets.iloc[:,1:3].values\n",
        "print(\"\\n\\nX for transformation : \\n\", X_new)"
      ]
    },
    {
      "cell_type": "code",
      "source": [
        "scaler = MinMaxScaler()\n",
        "X_scaled = scaler.fit_transform(X_new)\n",
        "print(\"\\n\\nScaled X : \\n\", X_scaled)"
      ],
      "metadata": {
        "colab": {
          "base_uri": "https://localhost:8080/"
        },
        "id": "UtUjuImugji1",
        "outputId": "d5c3e61a-a789-4bde-e1fe-fcebe3428bad"
      },
      "execution_count": 3,
      "outputs": [
        {
          "output_type": "stream",
          "name": "stdout",
          "text": [
            "\n",
            "\n",
            "Scaled X : \n",
            " [[0.3250444  0.27848101]\n",
            " [0.3339254  0.27848101]\n",
            " [0.3410302  0.29113924]\n",
            " ...\n",
            " [0.14742451        nan]\n",
            " [0.10301954 0.87341772]\n",
            " [0.09236234 0.94936709]]\n"
          ]
        }
      ]
    },
    {
      "cell_type": "code",
      "source": [
        "std = StandardScaler()\n",
        "X_std = std.fit_transform(X_new)\n",
        "print(\"\\n\\nStandardized X : \\n\", X_std)"
      ],
      "metadata": {
        "colab": {
          "base_uri": "https://localhost:8080/"
        },
        "id": "t3LEBalrglv0",
        "outputId": "cfaea0b1-934f-40ab-bea8-49139801e23d"
      },
      "execution_count": 4,
      "outputs": [
        {
          "output_type": "stream",
          "name": "stdout",
          "text": [
            "\n",
            "\n",
            "Standardized X : \n",
            " [[ 0.76376268 -1.75818903]\n",
            " [ 0.83271485 -1.75818903]\n",
            " [ 0.88787659 -1.70437596]\n",
            " ...\n",
            " [-0.6152808          nan]\n",
            " [-0.96004167  0.7710253 ]\n",
            " [-1.04278428  1.09390373]]\n"
          ]
        }
      ]
    }
  ]
}