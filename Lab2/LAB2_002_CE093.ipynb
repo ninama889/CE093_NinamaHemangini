{
  "nbformat": 4,
  "nbformat_minor": 0,
  "metadata": {
    "colab": {
      "name": "LAB2_002_CE093.ipynb",
      "provenance": []
    },
    "kernelspec": {
      "name": "python3",
      "display_name": "Python 3"
    },
    "language_info": {
      "name": "python"
    }
  },
  "cells": [
    {
      "cell_type": "code",
      "source": [
        "# Step 1: Import Libraries\n",
        "\n",
        "import numpy as np \n",
        "import pandas as pd\n",
        "from sklearn.preprocessing import LabelEncoder,OneHotEncoder\n",
        "\n",
        "# Step 2: Load Data\n",
        "        \n",
        "datasets = pd.read_csv('Exercise-CarData.csv') \n",
        "print(\"\\nData :\\n\",datasets)\n",
        "print(\"\\nData statistics\\n\",datasets.describe())"
      ],
      "metadata": {
        "colab": {
          "base_uri": "https://localhost:8080/"
        },
        "id": "otJkIRtahbDK",
        "outputId": "7b3c7237-356f-4bf2-d2e3-a8785884d318"
      },
      "execution_count": 15,
      "outputs": [
        {
          "output_type": "stream",
          "name": "stdout",
          "text": [
            "\n",
            "Data :\n",
            "       Unnamed: 0  Price   Age     KM  ... Automatic    CC  Doors  Weight\n",
            "0              0  13500  23.0  46986  ...         0  2000  three    1165\n",
            "1              1  13750  23.0  72937  ...         0  2000      3    1165\n",
            "2              2  13950  24.0  41711  ...         0  2000      3    1165\n",
            "3              3  14950  26.0  48000  ...         0  2000      3    1165\n",
            "4              4  13750  30.0  38500  ...         0  2000      3    1170\n",
            "...          ...    ...   ...    ...  ...       ...   ...    ...     ...\n",
            "1431        1431   7500   NaN  20544  ...         0  1300      3    1025\n",
            "1432        1432  10845  72.0     ??  ...         0  1300      3    1015\n",
            "1433        1433   8500   NaN  17016  ...         0  1300      3    1015\n",
            "1434        1434   7250  70.0     ??  ...         0  1300      3    1015\n",
            "1435        1435   6950  76.0      1  ...         0  1600      5    1114\n",
            "\n",
            "[1436 rows x 11 columns]\n",
            "\n",
            "Data statistics\n",
            "         Unnamed: 0         Price  ...           CC      Weight\n",
            "count  1436.000000   1436.000000  ...  1436.000000  1436.00000\n",
            "mean    717.500000  10730.824513  ...  1566.827994  1072.45961\n",
            "std     414.681806   3626.964585  ...   187.182436    52.64112\n",
            "min       0.000000   4350.000000  ...  1300.000000  1000.00000\n",
            "25%     358.750000   8450.000000  ...  1400.000000  1040.00000\n",
            "50%     717.500000   9900.000000  ...  1600.000000  1070.00000\n",
            "75%    1076.250000  11950.000000  ...  1600.000000  1085.00000\n",
            "max    1435.000000  32500.000000  ...  2000.000000  1615.00000\n",
            "\n",
            "[8 rows x 7 columns]\n"
          ]
        }
      ]
    },
    {
      "cell_type": "code",
      "execution_count": 16,
      "metadata": {
        "colab": {
          "base_uri": "https://localhost:8080/"
        },
        "id": "MjRpvoxxhGAT",
        "outputId": "765290cb-c692-4227-c2db-2ac359e1ab43"
      },
      "outputs": [
        {
          "output_type": "stream",
          "name": "stdout",
          "text": [
            "\n",
            "\n",
            "Input : \n",
            " [[0 13500 23.0 ... 0 2000 'three']\n",
            " [1 13750 23.0 ... 0 2000 '3']\n",
            " [2 13950 24.0 ... 0 2000 '3']\n",
            " ...\n",
            " [1433 8500 nan ... 0 1300 '3']\n",
            " [1434 7250 70.0 ... 0 1300 '3']\n",
            " [1435 6950 76.0 ... 0 1600 '5']]\n",
            "\n",
            "\n",
            "Output: \n",
            " [1165 1165 1165 ... 1015 1015 1114]\n"
          ]
        }
      ],
      "source": [
        "# Step 3: Seprate Input and Output attributes\n",
        "\n",
        "# All rows, all columns except last \n",
        "X = datasets.iloc[:, :-1].values \n",
        "  \n",
        "# Only last column  \n",
        "Y = datasets.iloc[:, -1].values \n",
        "\n",
        "print(\"\\n\\nInput : \\n\", X) \n",
        "print(\"\\n\\nOutput: \\n\", Y) "
      ]
    },
    {
      "cell_type": "code",
      "source": [
        "# Step 4a: Apply LabelEncoder on the data \n",
        "#          to convert country names into numeric values\n",
        "\n",
        "le = LabelEncoder()\n",
        "X[ : ,0] = le.fit_transform(X[ : ,0])\n",
        "print(\"\\n\\nInput : \\n\", X) "
      ],
      "metadata": {
        "colab": {
          "base_uri": "https://localhost:8080/"
        },
        "id": "r4346C5Jh8uc",
        "outputId": "51c3080e-3119-4dfe-e381-b69e0f6a9292"
      },
      "execution_count": 17,
      "outputs": [
        {
          "output_type": "stream",
          "name": "stdout",
          "text": [
            "\n",
            "\n",
            "Input : \n",
            " [[0 13500 23.0 ... 0 2000 'three']\n",
            " [1 13750 23.0 ... 0 2000 '3']\n",
            " [2 13950 24.0 ... 0 2000 '3']\n",
            " ...\n",
            " [1433 8500 nan ... 0 1300 '3']\n",
            " [1434 7250 70.0 ... 0 1300 '3']\n",
            " [1435 6950 76.0 ... 0 1600 '5']]\n"
          ]
        }
      ]
    },
    {
      "cell_type": "code",
      "source": [
        "# Step 4b: Use dummy variables from pandas library\n",
        "#          to create one column for each Weight\n",
        "\n",
        "dummy = pd.get_dummies(datasets['Weight'])\n",
        "print(\"\\n\\nDummy :\\n\",dummy)\n",
        "datasets = datasets.drop(['Weight','Automatic'],axis=1)\n",
        "datasets = pd.concat([dummy,datasets],axis=1)\n",
        "print(\"\\n\\nFinal Data :\\n\",datasets)"
      ],
      "metadata": {
        "colab": {
          "base_uri": "https://localhost:8080/"
        },
        "id": "boJlkQV-iCXc",
        "outputId": "f6885336-2e73-4dbc-b183-5cea4fd792a2"
      },
      "execution_count": 19,
      "outputs": [
        {
          "output_type": "stream",
          "name": "stdout",
          "text": [
            "\n",
            "\n",
            "Dummy :\n",
            "       1000  1010  1015  1020  1025  1030  ...  1270  1275  1280  1320  1480  1615\n",
            "0        0     0     0     0     0     0  ...     0     0     0     0     0     0\n",
            "1        0     0     0     0     0     0  ...     0     0     0     0     0     0\n",
            "2        0     0     0     0     0     0  ...     0     0     0     0     0     0\n",
            "3        0     0     0     0     0     0  ...     0     0     0     0     0     0\n",
            "4        0     0     0     0     0     0  ...     0     0     0     0     0     0\n",
            "...    ...   ...   ...   ...   ...   ...  ...   ...   ...   ...   ...   ...   ...\n",
            "1431     0     0     0     0     1     0  ...     0     0     0     0     0     0\n",
            "1432     0     0     1     0     0     0  ...     0     0     0     0     0     0\n",
            "1433     0     0     1     0     0     0  ...     0     0     0     0     0     0\n",
            "1434     0     0     1     0     0     0  ...     0     0     0     0     0     0\n",
            "1435     0     0     0     0     0     0  ...     0     0     0     0     0     0\n",
            "\n",
            "[1436 rows x 59 columns]\n",
            "\n",
            "\n",
            "Final Data :\n",
            "       1000  1010  1015  1020  1025  ...  FuelType   HP  MetColor    CC  Doors\n",
            "0        0     0     0     0     0  ...    Diesel   90       1.0  2000  three\n",
            "1        0     0     0     0     0  ...    Diesel   90       1.0  2000      3\n",
            "2        0     0     0     0     0  ...    Diesel   90       NaN  2000      3\n",
            "3        0     0     0     0     0  ...    Diesel   90       0.0  2000      3\n",
            "4        0     0     0     0     0  ...    Diesel   90       0.0  2000      3\n",
            "...    ...   ...   ...   ...   ...  ...       ...  ...       ...   ...    ...\n",
            "1431     0     0     0     0     1  ...    Petrol   86       1.0  1300      3\n",
            "1432     0     0     1     0     0  ...    Petrol   86       0.0  1300      3\n",
            "1433     0     0     1     0     0  ...    Petrol   86       0.0  1300      3\n",
            "1434     0     0     1     0     0  ...       NaN   86       1.0  1300      3\n",
            "1435     0     0     0     0     0  ...    Petrol  110       0.0  1600      5\n",
            "\n",
            "[1436 rows x 68 columns]\n"
          ]
        }
      ]
    }
  ]
}